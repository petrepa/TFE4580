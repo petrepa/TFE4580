{
  "nbformat": 4,
  "nbformat_minor": 0,
  "metadata": {
    "colab": {
      "name": "TFE4580_questionnaire_data_analysis.ipynb",
      "provenance": [],
      "collapsed_sections": [],
      "toc_visible": true
    },
    "kernelspec": {
      "name": "python3",
      "display_name": "Python 3"
    }
  },
  "cells": [
    {
      "cell_type": "markdown",
      "metadata": {
        "id": "DZtrOkSLF3VD"
      },
      "source": [
        ""
      ]
    },
    {
      "cell_type": "markdown",
      "metadata": {
        "id": "ozZJz8tWgM4h"
      },
      "source": [
        "# TFE4580 Questionnaire Data Analysis 📊❓💻\n",
        "\n",
        "This notebook 📒 is a part of Peter Remøy Paulsens 🙋‍♂️specialization project Fall 2020, TFE4580.\n",
        "\n",
        "Here you can see the code used for the resulting analysis used in the final project report 📚📖\n",
        "\n",
        "Before and after testing the experimental application, the participants of this experiment filled out a pre-testing questionnaire and a post-testing questionnaire used to collect data on their experience.\n",
        "\n",
        "---\n",
        "We are going to utilize the two csv files placed in this directory which have been exported from the questionnaires\n",
        "* pre_testing_questionnaire.csv\n",
        "* post_testing_questionnaire.csv\n",
        "\n",
        "Lets check if the files are placed in our directory\n",
        "\n"
      ]
    },
    {
      "cell_type": "code",
      "metadata": {
        "colab": {
          "base_uri": "https://localhost:8080/"
        },
        "id": "85fS7tkRDYGf",
        "outputId": "52e20c30-cf2f-4a36-8fd7-f9d8c9daa0c2"
      },
      "source": [
        "import os\n",
        "\n",
        "print(os.getcwd())      # Tells us which directory we are in\n",
        "print(os.listdir())     # Lists all of the contents in our directory"
      ],
      "execution_count": 63,
      "outputs": [
        {
          "output_type": "stream",
          "text": [
            "/content\n",
            "['.config', 'post_testing_questionnaire_numerical.csv', 'pre_testing_questionnaire.csv', 'post_testing_questionnaire.csv', 'post_testing_questionnaire_numerical_immersion.csv', 'post_testing_questionnaire_numerical_emotions.csv', 'post_testing_questionnaire_numerical_usability.csv', 'post_testing_questionnaire_numerical_experience.csv', '.ipynb_checkpoints', 'sample_data']\n"
          ],
          "name": "stdout"
        }
      ]
    },
    {
      "cell_type": "markdown",
      "metadata": {
        "id": "g7r4Cz3QGSGA"
      },
      "source": [
        "You should see something like this printed out:\n",
        "```\n",
        "['.config', 'post_testing_questionnaire.csv', 'pre_testing_questionnaire.csv']\n",
        "```\n",
        "---\n",
        "## Analyzing Tool 🕵️‍♀️🐼🔎\n",
        "### Importing Data 🤏\n",
        "We will use [pandas](https://pandas.pydata.org) as our analyzing tool. We import this and name it **pd**."
      ]
    },
    {
      "cell_type": "code",
      "metadata": {
        "id": "4hdENYcrGO8u"
      },
      "source": [
        "import pandas as pd"
      ],
      "execution_count": 24,
      "outputs": []
    },
    {
      "cell_type": "markdown",
      "metadata": {
        "id": "XwRE0TJYG2iF"
      },
      "source": [
        "Then we go on to making a panda DataFrames which reads our csv file\n",
        "\n",
        "Let's call our Pre Testing Questionnaire DataFrame **df_pre** and see if it reads properly"
      ]
    },
    {
      "cell_type": "code",
      "metadata": {
        "colab": {
          "base_uri": "https://localhost:8080/",
          "height": 442
        },
        "id": "lMz9N7XTK0vt",
        "outputId": "9a9e859d-faa8-408f-923a-50800a22beef"
      },
      "source": [
        "df_pre = pd.read_csv('pre_testing_questionnaire.csv')\n",
        "df_pre.head()"
      ],
      "execution_count": 59,
      "outputs": [
        {
          "output_type": "execute_result",
          "data": {
            "text/html": [
              "<div>\n",
              "<style scoped>\n",
              "    .dataframe tbody tr th:only-of-type {\n",
              "        vertical-align: middle;\n",
              "    }\n",
              "\n",
              "    .dataframe tbody tr th {\n",
              "        vertical-align: top;\n",
              "    }\n",
              "\n",
              "    .dataframe thead th {\n",
              "        text-align: right;\n",
              "    }\n",
              "</style>\n",
              "<table border=\"1\" class=\"dataframe\">\n",
              "  <thead>\n",
              "    <tr style=\"text-align: right;\">\n",
              "      <th></th>\n",
              "      <th>Tidsmerke</th>\n",
              "      <th>What is you participant number? You will get this from the experimenter</th>\n",
              "      <th>How old are you?</th>\n",
              "      <th>Gender</th>\n",
              "      <th>Do you have any previous experience with gaming?</th>\n",
              "      <th>Do you have any previous experience with augmented reality?</th>\n",
              "      <th>If you have any experience with augmented reality, which kind of device have you been using?</th>\n",
              "    </tr>\n",
              "  </thead>\n",
              "  <tbody>\n",
              "    <tr>\n",
              "      <th>0</th>\n",
              "      <td>2020/11/29 2:15:05 p.m. CET</td>\n",
              "      <td>3NKB</td>\n",
              "      <td>18 - 24</td>\n",
              "      <td>Male</td>\n",
              "      <td>I do it irregulary (here and there)</td>\n",
              "      <td>No experience</td>\n",
              "      <td>NaN</td>\n",
              "    </tr>\n",
              "    <tr>\n",
              "      <th>1</th>\n",
              "      <td>2020/11/30 9:17:11 a.m. CET</td>\n",
              "      <td>AAAN</td>\n",
              "      <td>18 - 24</td>\n",
              "      <td>Male</td>\n",
              "      <td>I do it regularly</td>\n",
              "      <td>I've tried it before (once or twice)</td>\n",
              "      <td>Mobile or tablet</td>\n",
              "    </tr>\n",
              "    <tr>\n",
              "      <th>2</th>\n",
              "      <td>2020/11/30 10:35:36 a.m. CET</td>\n",
              "      <td>809O</td>\n",
              "      <td>18 - 24</td>\n",
              "      <td>Female</td>\n",
              "      <td>I do it irregulary (here and there)</td>\n",
              "      <td>I've tried it before (once or twice)</td>\n",
              "      <td>Mobile or tablet</td>\n",
              "    </tr>\n",
              "    <tr>\n",
              "      <th>3</th>\n",
              "      <td>2020/11/30 11:08:55 a.m. CET</td>\n",
              "      <td>0DG6</td>\n",
              "      <td>18 - 24</td>\n",
              "      <td>Male</td>\n",
              "      <td>I do it regularly</td>\n",
              "      <td>No experience</td>\n",
              "      <td>NaN</td>\n",
              "    </tr>\n",
              "    <tr>\n",
              "      <th>4</th>\n",
              "      <td>2020/11/30 12:09:41 p.m. CET</td>\n",
              "      <td>9l7k</td>\n",
              "      <td>18 - 24</td>\n",
              "      <td>Male</td>\n",
              "      <td>I do it irregulary (here and there)</td>\n",
              "      <td>I've tried it before (once or twice)</td>\n",
              "      <td>Head mounted unit (such as HoloLens or Magic L...</td>\n",
              "    </tr>\n",
              "  </tbody>\n",
              "</table>\n",
              "</div>"
            ],
            "text/plain": [
              "                      Tidsmerke  ... If you have any experience with augmented reality, which kind of device have you been using?\n",
              "0   2020/11/29 2:15:05 p.m. CET  ...                                                NaN                                          \n",
              "1   2020/11/30 9:17:11 a.m. CET  ...                                   Mobile or tablet                                          \n",
              "2  2020/11/30 10:35:36 a.m. CET  ...                                   Mobile or tablet                                          \n",
              "3  2020/11/30 11:08:55 a.m. CET  ...                                                NaN                                          \n",
              "4  2020/11/30 12:09:41 p.m. CET  ...  Head mounted unit (such as HoloLens or Magic L...                                          \n",
              "\n",
              "[5 rows x 7 columns]"
            ]
          },
          "metadata": {
            "tags": []
          },
          "execution_count": 59
        }
      ]
    },
    {
      "cell_type": "markdown",
      "metadata": {
        "id": "bojMXlE9oU3C"
      },
      "source": [
        "We can then call our Post Testing Questionnaire DataFrame **df_post** and see if it also reads properly"
      ]
    },
    {
      "cell_type": "code",
      "metadata": {
        "colab": {
          "base_uri": "https://localhost:8080/",
          "height": 547
        },
        "id": "WcW6UoHCGvQd",
        "outputId": "b698771c-89bc-4057-d2cd-746ec0f9d1bc"
      },
      "source": [
        "df_post = pd.read_csv('post_testing_questionnaire.csv')\n",
        "df_post.head()\n"
      ],
      "execution_count": 26,
      "outputs": [
        {
          "output_type": "execute_result",
          "data": {
            "text/html": [
              "<div>\n",
              "<style scoped>\n",
              "    .dataframe tbody tr th:only-of-type {\n",
              "        vertical-align: middle;\n",
              "    }\n",
              "\n",
              "    .dataframe tbody tr th {\n",
              "        vertical-align: top;\n",
              "    }\n",
              "\n",
              "    .dataframe thead th {\n",
              "        text-align: right;\n",
              "    }\n",
              "</style>\n",
              "<table border=\"1\" class=\"dataframe\">\n",
              "  <thead>\n",
              "    <tr style=\"text-align: right;\">\n",
              "      <th></th>\n",
              "      <th>Tidsmerke</th>\n",
              "      <th>What is you participant number? You will get this from the experimenter</th>\n",
              "      <th>What environment did you use during the experiment?</th>\n",
              "      <th>How unhappy or happy did you feel while using the application?</th>\n",
              "      <th>How calm or excited did you feel while using the application?</th>\n",
              "      <th>How little or much control did you feel you had while using the application?</th>\n",
              "      <th>I thought the application was easy to use</th>\n",
              "      <th>I thought the application was inconsistent</th>\n",
              "      <th>I felt confident using the application</th>\n",
              "      <th>I was immersed into the mobile screen environment</th>\n",
              "      <th>I felt seperated from the real-world environment</th>\n",
              "      <th>I did not feel the need to look at anything other than the mobile screen</th>\n",
              "      <th>The visuals of the virtual object were convincing</th>\n",
              "      <th>I felt I could control the virtual object</th>\n",
              "      <th>The virtual object blended nicely into the environment</th>\n",
              "      <th>The object disappeared behind other real world objects</th>\n",
              "      <th>I felt that I experienced the virtual object, rather than watching it</th>\n",
              "      <th>I enjoyed the overall experience with the application</th>\n",
              "      <th>I would like to try the application, or similar applications again</th>\n",
              "    </tr>\n",
              "  </thead>\n",
              "  <tbody>\n",
              "    <tr>\n",
              "      <th>0</th>\n",
              "      <td>2020/11/29 2:24:28 p.m. CET</td>\n",
              "      <td>3NKB</td>\n",
              "      <td>Environment 1</td>\n",
              "      <td>7</td>\n",
              "      <td>9</td>\n",
              "      <td>6</td>\n",
              "      <td>Agree</td>\n",
              "      <td>Neutral</td>\n",
              "      <td>Agree</td>\n",
              "      <td>Strongly Agree</td>\n",
              "      <td>Disagree</td>\n",
              "      <td>Agree</td>\n",
              "      <td>Agree</td>\n",
              "      <td>Agree</td>\n",
              "      <td>Agree</td>\n",
              "      <td>Neutral</td>\n",
              "      <td>Agree</td>\n",
              "      <td>Agree</td>\n",
              "      <td>Strongly agree</td>\n",
              "    </tr>\n",
              "    <tr>\n",
              "      <th>1</th>\n",
              "      <td>2020/11/30 9:23:25 a.m. CET</td>\n",
              "      <td>AAAN</td>\n",
              "      <td>Environment 1</td>\n",
              "      <td>8</td>\n",
              "      <td>8</td>\n",
              "      <td>9</td>\n",
              "      <td>Agree</td>\n",
              "      <td>Strongly Disagree</td>\n",
              "      <td>Agree</td>\n",
              "      <td>Strongly Agree</td>\n",
              "      <td>Strongly Agree</td>\n",
              "      <td>Strongly Agree</td>\n",
              "      <td>Strongly Agree</td>\n",
              "      <td>Strongly Agree</td>\n",
              "      <td>Strongly Agree</td>\n",
              "      <td>Agree</td>\n",
              "      <td>Agree</td>\n",
              "      <td>Strongly Agree</td>\n",
              "      <td>Agree</td>\n",
              "    </tr>\n",
              "    <tr>\n",
              "      <th>2</th>\n",
              "      <td>2020/11/30 10:45:18 a.m. CET</td>\n",
              "      <td>809O</td>\n",
              "      <td>Environment 2</td>\n",
              "      <td>9</td>\n",
              "      <td>8</td>\n",
              "      <td>7</td>\n",
              "      <td>Strongly Agree</td>\n",
              "      <td>Disagree</td>\n",
              "      <td>Disagree</td>\n",
              "      <td>Disagree</td>\n",
              "      <td>Disagree</td>\n",
              "      <td>Agree</td>\n",
              "      <td>Agree</td>\n",
              "      <td>Neutral</td>\n",
              "      <td>Disagree</td>\n",
              "      <td>Strongly Disagree</td>\n",
              "      <td>Neutral</td>\n",
              "      <td>Agree</td>\n",
              "      <td>Agree</td>\n",
              "    </tr>\n",
              "    <tr>\n",
              "      <th>3</th>\n",
              "      <td>2020/11/30 11:15:10 a.m. CET</td>\n",
              "      <td>0DG6</td>\n",
              "      <td>Environment 2</td>\n",
              "      <td>8</td>\n",
              "      <td>3</td>\n",
              "      <td>8</td>\n",
              "      <td>Strongly Agree</td>\n",
              "      <td>Strongly Disagree</td>\n",
              "      <td>Strongly gree</td>\n",
              "      <td>Agree</td>\n",
              "      <td>Disagree</td>\n",
              "      <td>Strongly Agree</td>\n",
              "      <td>Agree</td>\n",
              "      <td>Strongly Agree</td>\n",
              "      <td>Agree</td>\n",
              "      <td>Disagree</td>\n",
              "      <td>Neutral</td>\n",
              "      <td>Agree</td>\n",
              "      <td>Strongly agree</td>\n",
              "    </tr>\n",
              "    <tr>\n",
              "      <th>4</th>\n",
              "      <td>2020/11/30 12:15:52 p.m. CET</td>\n",
              "      <td>9l7k</td>\n",
              "      <td>Environment 1</td>\n",
              "      <td>5</td>\n",
              "      <td>3</td>\n",
              "      <td>9</td>\n",
              "      <td>Agree</td>\n",
              "      <td>Agree</td>\n",
              "      <td>Strongly agree</td>\n",
              "      <td>Disagree</td>\n",
              "      <td>Disagree</td>\n",
              "      <td>Agree</td>\n",
              "      <td>Agree</td>\n",
              "      <td>Agree</td>\n",
              "      <td>Strongly Agree</td>\n",
              "      <td>Agree</td>\n",
              "      <td>Neutral</td>\n",
              "      <td>Agree</td>\n",
              "      <td>Agree</td>\n",
              "    </tr>\n",
              "  </tbody>\n",
              "</table>\n",
              "</div>"
            ],
            "text/plain": [
              "                      Tidsmerke  ... I would like to try the application, or similar applications again\n",
              "0   2020/11/29 2:24:28 p.m. CET  ...                                     Strongly agree                \n",
              "1   2020/11/30 9:23:25 a.m. CET  ...                                              Agree                \n",
              "2  2020/11/30 10:45:18 a.m. CET  ...                                              Agree                \n",
              "3  2020/11/30 11:15:10 a.m. CET  ...                                     Strongly agree                \n",
              "4  2020/11/30 12:15:52 p.m. CET  ...                                              Agree                \n",
              "\n",
              "[5 rows x 19 columns]"
            ]
          },
          "metadata": {
            "tags": []
          },
          "execution_count": 26
        }
      ]
    },
    {
      "cell_type": "markdown",
      "metadata": {
        "id": "j60NuVkUoy7S"
      },
      "source": [
        "### Demographic (pre-testing) 💁‍♂️👵🌍👧🙋‍♀️\n",
        "Lets see what kind of people we have been testing in the experiment\n",
        "\n",
        "##### Distribution of Age\n"
      ]
    },
    {
      "cell_type": "code",
      "metadata": {
        "colab": {
          "base_uri": "https://localhost:8080/",
          "height": 312
        },
        "id": "7spf8mgPLJfX",
        "outputId": "cf571cdf-cc73-4023-91bb-33dff1295813"
      },
      "source": [
        "df_pre['How old are you?'].value_counts().plot(kind=\"bar\", title=\"Age Distribution\", ylabel=\"Number of participants\", xlabel=\"Age\", rot=0)\n"
      ],
      "execution_count": 60,
      "outputs": [
        {
          "output_type": "execute_result",
          "data": {
            "text/plain": [
              "<matplotlib.axes._subplots.AxesSubplot at 0x7f0e2aeb6860>"
            ]
          },
          "metadata": {
            "tags": []
          },
          "execution_count": 60
        },
        {
          "output_type": "display_data",
          "data": {
            "image/png": "[encoded data removed]",
            "text/plain": [
              "<Figure size 432x288 with 1 Axes>"
            ]
          },
          "metadata": {
            "tags": [],
            "needs_background": "light"
          }
        }
      ]
    },
    {
      "cell_type": "markdown",
      "metadata": {
        "id": "BFplb7wNpsF2"
      },
      "source": [
        "##### Distribution of gender"
      ]
    },
    {
      "cell_type": "code",
      "metadata": {
        "colab": {
          "base_uri": "https://localhost:8080/",
          "height": 312
        },
        "id": "PYRDyPtEMksj",
        "outputId": "c5c8b4bd-6662-47f5-c19c-eeed76519335"
      },
      "source": [
        "df_pre['Gender'].value_counts().plot(kind=\"bar\", title=\"Gender Distribution\", ylabel=\"Number of participants\", xlabel=\"Gender\", rot=0)\n"
      ],
      "execution_count": 61,
      "outputs": [
        {
          "output_type": "execute_result",
          "data": {
            "text/plain": [
              "<matplotlib.axes._subplots.AxesSubplot at 0x7f0e2ae1d400>"
            ]
          },
          "metadata": {
            "tags": []
          },
          "execution_count": 61
        },
        {
          "output_type": "display_data",
          "data": {
            "image/png": "[encoded data removed]",
            "text/plain": [
              "<Figure size 432x288 with 1 Axes>"
            ]
          },
          "metadata": {
            "tags": [],
            "needs_background": "light"
          }
        }
      ]
    },
    {
      "cell_type": "markdown",
      "metadata": {
        "id": "-o6ioi-UqP0b"
      },
      "source": [
        "\n",
        "##### Distribution of Gaming Experience\n",
        "It is also interesting to see what kind of experience the participants have with gaming. \n",
        "\n",
        "Note that gaming can be everything from being world champion in Fortnite, to being the best at Candy Crush in you county. "
      ]
    },
    {
      "cell_type": "code",
      "metadata": {
        "colab": {
          "base_uri": "https://localhost:8080/",
          "height": 338
        },
        "id": "NeDWTfIWM8yP",
        "outputId": "66cb7209-d6c7-43e3-b72f-94424bc1b368"
      },
      "source": [
        "plot = df_pre['Do you have any previous experience with gaming?'].value_counts().plot(kind=\"bar\", title=\"Gaming Experience Distribution\", ylabel=\"Number of participants\", xlabel=\"Experience\", rot=15)\n"
      ],
      "execution_count": 62,
      "outputs": [
        {
          "output_type": "display_data",
          "data": {
            "image/png": "[encoded data removed]",
            "text/plain": [
              "<Figure size 432x288 with 1 Axes>"
            ]
          },
          "metadata": {
            "tags": [],
            "needs_background": "light"
          }
        }
      ]
    },
    {
      "cell_type": "markdown",
      "metadata": {
        "id": "PANmeRNyqu8w"
      },
      "source": [
        "##### Distribution of AR experience\n",
        "\n",
        "This is a hard one, as most people think of specific AR applications when they get asked weather or not if they have any experience with AR, and most people forget that AR is implemented in popular apps such as Snapchat "
      ]
    },
    {
      "cell_type": "code",
      "metadata": {
        "colab": {
          "base_uri": "https://localhost:8080/",
          "height": 352
        },
        "id": "wW8qWyewOQZQ",
        "outputId": "e91509f8-4f63-4bc1-d96b-8d39e9553f1f"
      },
      "source": [
        "plot = df_pre['Do you have any previous experience with augmented reality?'].value_counts().plot(kind=\"bar\", title=\"AR Experience Distribution\", ylabel=\"Number of participants\", xlabel=\"Experience\", rot=20)\n"
      ],
      "execution_count": 30,
      "outputs": [
        {
          "output_type": "display_data",
          "data": {
            "image/png": "[encoded data removed]",
            "text/plain": [
              "<Figure size 432x288 with 1 Axes>"
            ]
          },
          "metadata": {
            "tags": [],
            "needs_background": "light"
          }
        }
      ]
    },
    {
      "cell_type": "markdown",
      "metadata": {
        "id": "KYmugOxzcfP9"
      },
      "source": [
        "### Experience (post-testing) 🧐🤯🤔\n",
        "\n",
        "Lets now take a look on the questionnaire answers from the post-testing.\n",
        "\n",
        "#### Making answers numerical 🔢\n",
        "A small problem with the original answers, is that some of the answers has text answers. This was to make it easier for the participants to answer the questionnaire. But, to make it easier to analyze the data, we'll have to convert the data to numerical values\n",
        "\n",
        "*   5  ⬅️  Strongly Agree\n",
        "*   4  ⬅️  Agree\n",
        "*   3  ⬅️  Neutral\n",
        "*   2  ⬅️  Disagree\n",
        "*   1  ⬅️  Strongly Disagree\n",
        "\n",
        "Exporting to a new CSV file with numerical values\n"
      ]
    },
    {
      "cell_type": "code",
      "metadata": {
        "id": "WskiPnFVaFgI"
      },
      "source": [
        "# Converting the text answers to numbers\n",
        "df_post.replace(to_replace=\"Strongly Agree\", value=5, inplace=True)\n",
        "df_post.replace(to_replace=\"Agree\", value=4, inplace=True)\n",
        "df_post.replace(to_replace=\"Neutral\", value=3, inplace=True)\n",
        "df_post.replace(to_replace=\"Disagree\", value=2, inplace=True)\n",
        "df_post.replace(to_replace=\"Strongly Disagree\", value=1, inplace=True)\n",
        "\n",
        "# Dealing with some wrong variations in the questionnaire\n",
        "df_post.replace(to_replace=\"Strongly agree\", value=5, inplace=True)\n",
        "df_post.replace(to_replace=\"Strongly gree\", value=5, inplace=True)\n",
        "\n",
        "# Exporting to a new numerical csv file\n",
        "df_post.to_csv('post_testing_questionnaire_numerical.csv', index=False)\n"
      ],
      "execution_count": 31,
      "outputs": []
    },
    {
      "cell_type": "markdown",
      "metadata": {
        "id": "tjeKt8T6eLkI"
      },
      "source": [
        "Let's make a new DataFrame with the numerical CSV sheet"
      ]
    },
    {
      "cell_type": "code",
      "metadata": {
        "id": "CQMFZsO6eSuZ"
      },
      "source": [
        "df_num = pd.read_csv('post_testing_questionnaire_numerical.csv')"
      ],
      "execution_count": 32,
      "outputs": []
    },
    {
      "cell_type": "markdown",
      "metadata": {
        "id": "TeQFTlVPgsms"
      },
      "source": [
        "Let's see the distrobution of who tried which environments"
      ]
    },
    {
      "cell_type": "code",
      "metadata": {
        "colab": {
          "base_uri": "https://localhost:8080/",
          "height": 323
        },
        "id": "RjY6zJm0fk5o",
        "outputId": "98986711-46a6-4c4a-93e6-558846e6ecab"
      },
      "source": [
        "df_num['What environment did you use during the experiment?'].value_counts().plot(kind=\"pie\", autopct='%.f%%')"
      ],
      "execution_count": 33,
      "outputs": [
        {
          "output_type": "execute_result",
          "data": {
            "text/plain": [
              "<matplotlib.axes._subplots.AxesSubplot at 0x7f0e39115ba8>"
            ]
          },
          "metadata": {
            "tags": []
          },
          "execution_count": 33
        },
        {
          "output_type": "display_data",
          "data": {
            "image/png": "[encoded data removed]",
            "text/plain": [
              "<Figure size 432x288 with 1 Axes>"
            ]
          },
          "metadata": {
            "tags": []
          }
        }
      ]
    },
    {
      "cell_type": "markdown",
      "metadata": {
        "id": "XTNNmB_ug3KP"
      },
      "source": [
        "Perfect! 50/50! 🥳\n",
        "\n",
        "Lets seperate the two environment answers into two variables and quickly take a look at the difference in the mean of the two different environmnets score of immersion"
      ]
    },
    {
      "cell_type": "code",
      "metadata": {
        "id": "VaBdQAIGg62E",
        "colab": {
          "base_uri": "https://localhost:8080/"
        },
        "outputId": "f4856b95-f34d-45fe-a9e5-86b7e24daed3"
      },
      "source": [
        "environment_1 = df_num[df_num['What environment did you use during the experiment?'] == 'Environment 1']\n",
        "environment_2 = df_num[df_num['What environment did you use during the experiment?'] == 'Environment 2']\n",
        "\n",
        "print(environment_1['I was immersed into the mobile screen environment'].mean(), environment_2['I was immersed into the mobile screen environment'].mean())"
      ],
      "execution_count": 34,
      "outputs": [
        {
          "output_type": "stream",
          "text": [
            "3.8333333333333335 3.75\n"
          ],
          "name": "stdout"
        }
      ]
    },
    {
      "cell_type": "markdown",
      "metadata": {
        "id": "M2kJAAukiHsQ"
      },
      "source": [
        "Great! But this is not very visually pleasing 🤔\n",
        "\n",
        "Lets plot all of the mean of the answers in a histogram to please the human need for great visuals! 🤤"
      ]
    },
    {
      "cell_type": "code",
      "metadata": {
        "colab": {
          "base_uri": "https://localhost:8080/",
          "height": 653
        },
        "id": "pa2TRNnviKCG",
        "outputId": "9a92dd9e-0920-4ab3-a314-77203b220b0a"
      },
      "source": [
        "pd.concat([df_num[df_num['What environment did you use during the experiment?'] == 'Environment 1'].mean().rename('Environment 1'), df_num[df_num['What environment did you use during the experiment?'] == 'Environment 2'].mean().rename('Environment 2')], axis=1).plot.bar()"
      ],
      "execution_count": 35,
      "outputs": [
        {
          "output_type": "execute_result",
          "data": {
            "text/plain": [
              "<matplotlib.axes._subplots.AxesSubplot at 0x7f0e392331d0>"
            ]
          },
          "metadata": {
            "tags": []
          },
          "execution_count": 35
        },
        {
          "output_type": "display_data",
          "data": {
            "image/png": "[encoded data removed]",
            "text/plain": [
              "<Figure size 432x288 with 1 Axes>"
            ]
          },
          "metadata": {
            "tags": [],
            "needs_background": "light"
          }
        }
      ]
    },
    {
      "cell_type": "markdown",
      "metadata": {
        "id": "RPcmhRJnxFRd"
      },
      "source": [
        "This is a bit messy and crowded😬 Especially the looong questions...\n",
        "\n",
        "Lets seperate the main dataset into smaller categorized datasets 🤩\n",
        "\n",
        "We import numpy to be able to use .r_ to combine slices and indices, as we need the data for which environment has been used in each of the categories. "
      ]
    },
    {
      "cell_type": "code",
      "metadata": {
        "id": "IkIRGmXPqX2g"
      },
      "source": [
        "import numpy as np \n",
        "\n",
        "# Slice the original numerical DataFrame\n",
        "emotions = df_num.iloc[:, 2:6]\n",
        "usability = df_num.iloc[:, np.r_[2, 6:9]]\n",
        "immersion = df_num.iloc[:, np.r_[2, 9:17]]\n",
        "experience = df_num.iloc[:, np.r_[2, 17:19]]\n",
        "\n",
        "#emotions.head()\n",
        "#usability.head()\n",
        "#immersion.head()\n",
        "#experience.head()\n",
        "\n",
        "# Export to their own CSV files\n",
        "emotions.to_csv('post_testing_questionnaire_numerical_emotions.csv', index=False)\n",
        "usability.to_csv('post_testing_questionnaire_numerical_usability.csv', index=False)\n",
        "immersion.to_csv('post_testing_questionnaire_numerical_immersion.csv', index=False)\n",
        "experience.to_csv('post_testing_questionnaire_numerical_experience.csv', index=False)\n",
        "\n",
        "# Import them as DataFrames\n",
        "df_num_emotions = pd.read_csv('post_testing_questionnaire_numerical_emotions.csv')\n",
        "df_num_usability = pd.read_csv('post_testing_questionnaire_numerical_usability.csv')\n",
        "df_num_immersion = pd.read_csv('post_testing_questionnaire_numerical_immersion.csv')\n",
        "df_num_experience = pd.read_csv('post_testing_questionnaire_numerical_experience.csv')"
      ],
      "execution_count": 53,
      "outputs": []
    },
    {
      "cell_type": "markdown",
      "metadata": {
        "id": "Sbkh0EjR8paL"
      },
      "source": [
        "We want to plot the mean of all of the answers as we cannot analyze every single answer on it's own. Therefore we need a function which can plot the mean of the answers given in the datasets comparing environment 1 to 2. \n",
        "\n",
        "Since we also intend to use this function for all of the dataframes, we enable the function to receive some parameters:\n",
        "* **dataframe_name**: takes the a given DataFrame (e.g. *df_num_emotions*)\n",
        "* **title_name**: takes the wanted title for the plot (e.g. *Mean of Emotions*)\n",
        "* **max_score**: sets the limit of the y-axis (since we have both a SAM scale with 9 as a maximum score and Likert scale with 5 as the maximum score in our answers)\n",
        "* **Q_num_start**: the number of the first question in the histogram\n",
        "* **Q_num_end**: the number of the last question in the histogram"
      ]
    },
    {
      "cell_type": "code",
      "metadata": {
        "id": "YX5Wudg07tF1"
      },
      "source": [
        "import matplotlib.pyplot as plt\n",
        "\n",
        "def env_mean_concat(dataframe_name, title_name, max_score, Q_num_start, Q_num_end):\n",
        "  xlabels = []\n",
        "  \n",
        "  for i in range(Q_num_start, Q_num_end+1):\n",
        "    xlabels.append(\"Q\"+str(i))\n",
        "\n",
        "  x = dataframe_name[dataframe_name['What environment did you use during the experiment?'] == 'Environment 1'].mean().rename('Environment 1')\n",
        "  y = dataframe_name[dataframe_name['What environment did you use during the experiment?'] == 'Environment 2'].mean().rename('Environment 2')\n",
        "\n",
        "\n",
        "  plot = pd.concat([x, y], axis=1).plot(kind = \"bar\", yerr=env_std_dev(dataframe_name))\n",
        "\n",
        "  plot.set_title(\"Mean of \" + title_name)\n",
        "  plot.set_xlabel(\"Questions\")\n",
        "  plot.set_ylabel(\"Score\")\n",
        "  plot.set_ylim(0, max_score)\n",
        "  plot.set_xticklabels( xlabels, rotation=0 )\n",
        "  plt.legend(bbox_to_anchor=(1.05, 1.0), loc='upper left')\n"
      ],
      "execution_count": 37,
      "outputs": []
    },
    {
      "cell_type": "markdown",
      "metadata": {
        "id": "OrqjgNRA3fXw"
      },
      "source": [
        "We also need a way to check if our answer data has a great variability, and to check this we plot the standard deviations as error bars on our histograms. "
      ]
    },
    {
      "cell_type": "code",
      "metadata": {
        "id": "H6rh0gh9f512"
      },
      "source": [
        "def env_std_dev(dataframe_name):\n",
        "  std_1 = dataframe_name[dataframe_name['What environment did you use during the experiment?'] == 'Environment 1'].std()\n",
        "  std_2 = dataframe_name[dataframe_name['What environment did you use during the experiment?'] == 'Environment 2'].std()\n",
        "\n",
        "  std = [std_1.to_numpy(), std_2.to_numpy()]\n",
        "  \n",
        "  return std"
      ],
      "execution_count": 38,
      "outputs": []
    },
    {
      "cell_type": "markdown",
      "metadata": {
        "id": "Jyq15Qt25XkA"
      },
      "source": [
        "#### Emotions 😃😭\n",
        "The emotions are mapped by using a [self assesment manikin](https://pubmed.ncbi.nlm.nih.gov/7962581/) (SAM scale)\n",
        "\n",
        "##### Questions:\n",
        "* **Q1**: How unhappy or happy did you feel while using the application?\n",
        "* **Q2**: How calm or excited did you feel while using the application?\n",
        "* **Q3**: How little or much control did you feel you had while using the application?"
      ]
    },
    {
      "cell_type": "code",
      "metadata": {
        "colab": {
          "base_uri": "https://localhost:8080/",
          "height": 295
        },
        "id": "ETqHHP285eaa",
        "outputId": "6080bc06-0515-44c3-9088-40ca8b230adc"
      },
      "source": [
        "env_mean_concat(df_num_emotions, \"Emotions\", 9, 1, 3)"
      ],
      "execution_count": 39,
      "outputs": [
        {
          "output_type": "display_data",
          "data": {
            "image/png": "[encoded data removed]",
            "text/plain": [
              "<Figure size 432x288 with 1 Axes>"
            ]
          },
          "metadata": {
            "tags": [],
            "needs_background": "light"
          }
        }
      ]
    },
    {
      "cell_type": "markdown",
      "metadata": {
        "id": "DletSsyz6c43"
      },
      "source": [
        "#### Usability 😊😫\n",
        "Mapped using the [Likert scale](https://en.wikipedia.org/wiki/Likert_scale)\n",
        "\n",
        "##### Questions:\n",
        "* **Q4**: I thought the application was easy to use\n",
        "* **Q5**: I thought the application was inconsistent\n",
        "* **Q6**: I felt confident using the application"
      ]
    },
    {
      "cell_type": "code",
      "metadata": {
        "colab": {
          "base_uri": "https://localhost:8080/",
          "height": 295
        },
        "id": "YxN2zaWC6f_Y",
        "outputId": "c6f41cc5-eda5-44d5-8c6e-928bc65f9a42"
      },
      "source": [
        "env_mean_concat(df_num_usability, \"Usability\", 5, 4, 7)"
      ],
      "execution_count": 40,
      "outputs": [
        {
          "output_type": "display_data",
          "data": {
            "image/png": "[encoded data removed]",
            "text/plain": [
              "<Figure size 432x288 with 1 Axes>"
            ]
          },
          "metadata": {
            "tags": [],
            "needs_background": "light"
          }
        }
      ]
    },
    {
      "cell_type": "markdown",
      "metadata": {
        "id": "g5JPK5N_9E24"
      },
      "source": [
        "#### Immersion 😒😲\n",
        "Mapped using the [Likert scale](https://en.wikipedia.org/wiki/Likert_scale)\n",
        "\n",
        "##### Questions:\n",
        "* **Q7**: I was immersed into the mobile screen environment\n",
        "* **Q8**: I felt separated from the real-world environment\n",
        "* **Q9**: I did not feel the need to look at anything other than the mobile screen\n",
        "* **Q10**: The visuals of the virtual object were convincing\n",
        "* **Q11**: I felt I could control the virtual object\n",
        "* **Q12**: The virtual object blended nicely into the environment\n",
        "* **Q13**: The object disappeared behind other real world objects\n",
        "* **Q14**: I felt that I experienced the virtual object, rather than watching it"
      ]
    },
    {
      "cell_type": "code",
      "metadata": {
        "colab": {
          "base_uri": "https://localhost:8080/",
          "height": 295
        },
        "id": "dZDzdaGN9LTy",
        "outputId": "3f66b4d1-627b-4621-fbab-0c2bc57053e8"
      },
      "source": [
        "env_mean_concat(df_num_immersion, \"Immersion\", 5, 7, 14)"
      ],
      "execution_count": 41,
      "outputs": [
        {
          "output_type": "display_data",
          "data": {
            "image/png": "[encoded data removed]",
            "text/plain": [
              "<Figure size 432x288 with 1 Axes>"
            ]
          },
          "metadata": {
            "tags": [],
            "needs_background": "light"
          }
        }
      ]
    },
    {
      "cell_type": "markdown",
      "metadata": {
        "id": "h32-Y76A9DTn"
      },
      "source": [
        "#### Experience 🤓😎\n",
        "Mapped using the [Likert scale](https://en.wikipedia.org/wiki/Likert_scale)\n",
        "\n",
        "##### Questions:\n",
        "* **Q15**: I enjoyed the overall experience with the application\n",
        "* **Q16**: I would like to try the application, or similar applications again"
      ]
    },
    {
      "cell_type": "code",
      "metadata": {
        "colab": {
          "base_uri": "https://localhost:8080/",
          "height": 295
        },
        "id": "Req7-lU89G4l",
        "outputId": "0004edf9-135c-47e3-b919-e83a4ba68402"
      },
      "source": [
        "env_mean_concat(df_num_experience, \"Experience\", 5, 15, 16)"
      ],
      "execution_count": 54,
      "outputs": [
        {
          "output_type": "display_data",
          "data": {
            "image/png": "[encoded data removed]",
            "text/plain": [
              "<Figure size 432x288 with 1 Axes>"
            ]
          },
          "metadata": {
            "tags": [],
            "needs_background": "light"
          }
        }
      ]
    },
    {
      "cell_type": "markdown",
      "metadata": {
        "id": "m8MbsONobyFy"
      },
      "source": [
        "## Statistical threshold 🔬⚗️🧮\n",
        "\n",
        "We also need to check if there is any statistical significance to any of the differences in environemnt 1 or 2\n",
        "\n",
        "A test with the a [Mann–Whitney U test](https://en.wikipedia.org/wiki/Mann–Whitney_U_test) library can be used to easily check p-value against an alpha value"
      ]
    },
    {
      "cell_type": "code",
      "metadata": {
        "colab": {
          "base_uri": "https://localhost:8080/"
        },
        "id": "bZYTlF90F7wg",
        "outputId": "d8b21f5e-7f4f-4ace-8f24-34bbd12273a6"
      },
      "source": [
        "from scipy.stats import mannwhitneyu\n",
        "\n",
        "def mannwhitneyu_test(dataframe_name, alpha):\n",
        "  stat, p = mannwhitneyu(\n",
        "      dataframe_name[dataframe_name['What environment did you use during the experiment?'] == 'Environment 1'].mean().rename('Environment 1'), \n",
        "      dataframe_name[dataframe_name['What environment did you use during the experiment?'] == 'Environment 2'].mean().rename('Environment 2')\n",
        "      )\n",
        "  print('Statistics=%.3f, p=%.3f' % (stat, p))\n",
        "  if p > alpha:\n",
        "    print('Keep H0,    p   >   alpha')\n",
        "    print('          %.3f     %.3f' % (p, alpha))\n",
        "  else:\n",
        "    print('Reject H0,    p   <   alpha')\n",
        "    print('            %.3f     %.3f' % (p, alpha))\n",
        "\n",
        "  \n",
        "mannwhitneyu_test(df_num_experience, 0.25)"
      ],
      "execution_count": 58,
      "outputs": [
        {
          "output_type": "stream",
          "text": [
            "Statistics=0.500, p=0.207\n",
            "Reject H0,    p   <   alpha\n",
            "            0.207     0.250\n"
          ],
          "name": "stdout"
        }
      ]
    },
    {
      "cell_type": "markdown",
      "metadata": {
        "id": "CeypNnnrb8Lv"
      },
      "source": [
        "Function returning all of the p-values in an given dataset and appending them to an array"
      ]
    },
    {
      "cell_type": "code",
      "metadata": {
        "id": "N9_Qc5W4Krts"
      },
      "source": [
        "def mannwhitneyu_p_values(dataframe_name):\n",
        "  p_values = []\n",
        "\n",
        "  df_env1 = dataframe_name[dataframe_name['What environment did you use during the experiment?'] == 'Environment 1']\n",
        "  df_env2 = dataframe_name[dataframe_name['What environment did you use during the experiment?'] == 'Environment 2']\n",
        "\n",
        "  for i in range(1, len(df_env1.columns)):\n",
        "    stat, p = mannwhitneyu(df_env1.to_numpy()[:, i], df_env2.to_numpy()[:, i])\n",
        "    #print('%.0f: Statistics = %.3f,  p = %.3f' % (i, stat, p))\n",
        "\n",
        "    p_values.append(round(p, 3))\n",
        "\n",
        "  print(p_values)\n",
        "  #return p_values"
      ],
      "execution_count": 45,
      "outputs": []
    },
    {
      "cell_type": "markdown",
      "metadata": {
        "id": "ieXXkt2xcqLH"
      },
      "source": [
        "Function to get the means from the environments and comparing their delta"
      ]
    },
    {
      "cell_type": "code",
      "metadata": {
        "id": "aLhcwoazc5pI"
      },
      "source": [
        "import statistics\n",
        "\n",
        "def env_mean(dataframe_name):\n",
        "  df_env1 = dataframe_name[dataframe_name['What environment did you use during the experiment?'] == 'Environment 1']\n",
        "  df_env2 = dataframe_name[dataframe_name['What environment did you use during the experiment?'] == 'Environment 2']\n",
        "  \n",
        "  env1_mean = []\n",
        "  env2_mean = []\n",
        "\n",
        "  for i in range(1, len(df_env1.columns)):\n",
        "    env1_mean.append(round(statistics.mean(df_env1.to_numpy()[:, i]), 3))\n",
        "    env2_mean.append(round(statistics.mean(df_env2.to_numpy()[:, i]), 3))\n",
        "\n",
        "  print(env1_mean)\n",
        "  print(env2_mean)\n",
        "\n",
        "  delta_mean = np.subtract(env1_mean, env2_mean)\n",
        "\n",
        "  print(delta_mean)\n",
        "  #return env1_mean, env2_mean, delta_mean"
      ],
      "execution_count": 46,
      "outputs": []
    },
    {
      "cell_type": "code",
      "metadata": {
        "id": "rtsNnmERtTeJ"
      },
      "source": [
        "def means_and_pvalues(dataframe_name):\n",
        "  env_mean(dataframe_name)\n",
        "  mannwhitneyu_p_values(dataframe_name)\n"
      ],
      "execution_count": 47,
      "outputs": []
    },
    {
      "cell_type": "markdown",
      "metadata": {
        "id": "MOZNq1i6ZbuB"
      },
      "source": [
        "### Emotions Means and P-values"
      ]
    },
    {
      "cell_type": "code",
      "metadata": {
        "colab": {
          "base_uri": "https://localhost:8080/"
        },
        "id": "zgVT_bLmsyXj",
        "outputId": "a5205368-3b86-467c-8970-afd255346076"
      },
      "source": [
        "means_and_pvalues(df_num_emotions)"
      ],
      "execution_count": 48,
      "outputs": [
        {
          "output_type": "stream",
          "text": [
            "[6.75, 5.833, 6.5]\n",
            "[7.417, 6.917, 6.333]\n",
            "[-0.667 -1.084  0.167]\n",
            "[0.155, 0.288, 0.43]\n"
          ],
          "name": "stdout"
        }
      ]
    },
    {
      "cell_type": "markdown",
      "metadata": {
        "id": "DENj3FOys5CG"
      },
      "source": [
        "### Usability Means and P-values "
      ]
    },
    {
      "cell_type": "code",
      "metadata": {
        "colab": {
          "base_uri": "https://localhost:8080/"
        },
        "id": "Grs7EmP5uw54",
        "outputId": "8bff4b02-b7ce-435c-98ac-2d0f6ef19615"
      },
      "source": [
        "means_and_pvalues(df_num_usability)"
      ],
      "execution_count": 49,
      "outputs": [
        {
          "output_type": "stream",
          "text": [
            "[4.167, 2.5, 3.917]\n",
            "[3.917, 2.75, 3.917]\n",
            "[ 0.25 -0.25  0.  ]\n",
            "[0.279, 0.339, 0.5]\n"
          ],
          "name": "stdout"
        }
      ]
    },
    {
      "cell_type": "markdown",
      "metadata": {
        "id": "S7BZNAWZuWZm"
      },
      "source": [
        "### Immersion Means and P-values"
      ]
    },
    {
      "cell_type": "code",
      "metadata": {
        "colab": {
          "base_uri": "https://localhost:8080/"
        },
        "id": "1ZsQBWbEuglE",
        "outputId": "bfc202e6-b1f7-44a6-84be-5b0b98c759ac"
      },
      "source": [
        "means_and_pvalues(df_num_immersion)"
      ],
      "execution_count": 50,
      "outputs": [
        {
          "output_type": "stream",
          "text": [
            "[3.833, 3, 4.25, 4.167, 4.083, 4, 3.25, 3.333]\n",
            "[3.75, 3.083, 3.917, 3.75, 4, 3.25, 1.833, 3.667]\n",
            "[ 0.083 -0.083  0.333  0.417  0.083  0.75   1.417 -0.334]\n",
            "[0.324, 0.406, 0.109, 0.203, 0.426, 0.06, 0.001, 0.219]\n"
          ],
          "name": "stdout"
        }
      ]
    },
    {
      "cell_type": "markdown",
      "metadata": {
        "id": "rhSRtfv3uauE"
      },
      "source": [
        "### Experience Means and P-values"
      ]
    },
    {
      "cell_type": "code",
      "metadata": {
        "colab": {
          "base_uri": "https://localhost:8080/"
        },
        "id": "9nRTkiuPudEY",
        "outputId": "3e9786fc-0e35-471a-a87a-1f1c36b4a42d"
      },
      "source": [
        "means_and_pvalues(df_num_experience)"
      ],
      "execution_count": 51,
      "outputs": [
        {
          "output_type": "stream",
          "text": [
            "[4.333]\n",
            "[4.333]\n",
            "[0.]\n",
            "[0.486]\n"
          ],
          "name": "stdout"
        }
      ]
    }
  ]
}